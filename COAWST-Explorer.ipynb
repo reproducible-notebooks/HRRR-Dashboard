{
 "cells": [
  {
   "cell_type": "markdown",
   "metadata": {
    "tags": []
   },
   "source": [
    "# COAWST Explorer\n",
    "The Coupled Ocean Atmosphere Wave and Sediment Transport (COAWST) model is a two-way coupled framework. Here we investigate the COAWST forecast for the East and Gulf Coasts, visualizing the data using the [holoviz](holoviz.org) tools. "
   ]
  },
  {
   "cell_type": "code",
   "execution_count": null,
   "metadata": {
    "tags": []
   },
   "outputs": [],
   "source": [
    "import xarray as xr\n",
    "import cf_xarray \n",
    "import intake\n",
    "import numpy as np\n",
    "import hvplot.xarray\n",
    "from geoviews import tile_sources as gvts\n",
    "import geoviews as gv\n",
    "import panel as pn"
   ]
  },
  {
   "cell_type": "code",
   "execution_count": null,
   "metadata": {
    "tags": []
   },
   "outputs": [],
   "source": [
    "intake_catalog_url = 'https://usgs-coawst.s3.amazonaws.com/useast-archive/coawst_intake.yml'"
   ]
  },
  {
   "cell_type": "code",
   "execution_count": null,
   "metadata": {
    "tags": []
   },
   "outputs": [],
   "source": [
    "cat = intake.open_catalog(intake_catalog_url)\n",
    "list(cat)"
   ]
  },
  {
   "cell_type": "code",
   "execution_count": null,
   "metadata": {
    "tags": []
   },
   "outputs": [],
   "source": [
    "%%time\n",
    "coawst = cat['COAWST-USEAST']"
   ]
  },
  {
   "cell_type": "markdown",
   "metadata": {
    "tags": []
   },
   "source": [
    "Increase the size of the chunks that dask workers load to be the entire domain, since holoviz wants the entire domain to plot anyway: "
   ]
  },
  {
   "cell_type": "code",
   "execution_count": null,
   "metadata": {
    "tags": []
   },
   "outputs": [],
   "source": [
    "coawst.kwargs.update({'chunks': {'xi_rho':-1, 'eta_rho':-1, \n",
    "                                 'xi_u':-1, 'eta_u':-1,\n",
    "                                 'xi_v':-1, 'eta_v':-1}})\n",
    "ds = coawst.to_dask() "
   ]
  },
  {
   "cell_type": "code",
   "execution_count": null,
   "metadata": {
    "tags": []
   },
   "outputs": [],
   "source": [
    "ds.nbytes/1e12    #TB (uncompresssed size)"
   ]
  },
  {
   "cell_type": "code",
   "execution_count": null,
   "metadata": {
    "tags": []
   },
   "outputs": [],
   "source": [
    "ds"
   ]
  },
  {
   "cell_type": "code",
   "execution_count": null,
   "metadata": {
    "tags": []
   },
   "outputs": [],
   "source": [
    "ds.temp"
   ]
  },
  {
   "cell_type": "markdown",
   "metadata": {},
   "source": [
    "Create a list of data variables that have a time dimension (but are not time `bounds` variables)"
   ]
  },
  {
   "cell_type": "code",
   "execution_count": null,
   "metadata": {
    "tags": []
   },
   "outputs": [],
   "source": [
    "show_vars = []\n",
    "for var in ds.data_vars:\n",
    "    if len(ds[var].dims) > 0:\n",
    "        if 'time' in ds[var].dims[0] and not 'bounds' in var:\n",
    "            show_vars.append(var)"
   ]
  },
  {
   "cell_type": "markdown",
   "metadata": {},
   "source": [
    "Override this list, explicitly specifying which variables users can select:"
   ]
  },
  {
   "cell_type": "code",
   "execution_count": null,
   "metadata": {
    "tags": []
   },
   "outputs": [],
   "source": [
    "show_vars = ['Hwave', 'temp', 'salt', 'zeta', \n",
    "             'Uwind', 'Vwind', 'u', 'v', 'ubar', 'vbar', 'Dwave', 'sand_06', 'bstrcwmax']"
   ]
  },
  {
   "cell_type": "code",
   "execution_count": null,
   "metadata": {
    "tags": []
   },
   "outputs": [],
   "source": [
    "init_var = 'Hwave'"
   ]
  },
  {
   "cell_type": "markdown",
   "metadata": {},
   "source": [
    "Create widget for variable selection"
   ]
  },
  {
   "cell_type": "code",
   "execution_count": null,
   "metadata": {
    "tags": []
   },
   "outputs": [],
   "source": [
    "var_select = pn.widgets.Select(name='COAWST Variables:', options=show_vars, value=init_var)"
   ]
  },
  {
   "cell_type": "markdown",
   "metadata": {},
   "source": [
    "Create widget for basemap selection"
   ]
  },
  {
   "cell_type": "code",
   "execution_count": null,
   "metadata": {
    "tags": []
   },
   "outputs": [],
   "source": [
    "base_map_select = pn.widgets.Select(name='Basemap:', options=gvts.tile_sources, value=gvts.OSM)"
   ]
  },
  {
   "cell_type": "markdown",
   "metadata": {
    "slideshow": {
     "slide_type": "slide"
    }
   },
   "source": [
    "The `plot` function below creates the `hvplot` panel layout object.   ROMS is on a C-Grid and variables have different coordinates depending on where they are on the grid.   So we use `cf-xarray` to determine the time, depth, longitude and latitude coordinates for each variable.  \n",
    "\n",
    "We specify a basemap, pick the `quadmesh` plot type for the selected variable, and indicate we want to `rasterize` the plot so that we can render massive meshes in the browser. \n",
    "\n",
    "We also specify:\n",
    "* The `groupby` parameter as the list of dimensions that remains after we remove Y and X: `ds[var].dims[:-2]`, which automatically handles variables with either dimensions `[T, Y, X]` or `[T, Z, Y, X]`.  \n",
    "* The `bokeh` controls we want to be active by default:  the `wheel_zoom` and `pan` controls.\n",
    "* The last `time_vals` to display\n",
    "* A selection widget for the time dimension (and vertical dimension if it exists) so that specific values are easy to select.  See https://stackoverflow.com/a/54912917/2005869"
   ]
  },
  {
   "cell_type": "code",
   "execution_count": null,
   "metadata": {
    "tags": []
   },
   "outputs": [],
   "source": [
    "time_vals = 48"
   ]
  },
  {
   "cell_type": "code",
   "execution_count": null,
   "metadata": {
    "tags": []
   },
   "outputs": [],
   "source": [
    "def set_tools(plot, element):\n",
    "    plot.state.toolbar.active_inspect = None"
   ]
  },
  {
   "cell_type": "code",
   "execution_count": null,
   "metadata": {
    "tags": []
   },
   "outputs": [],
   "source": [
    "@pn.depends(var_select, base_map_select)\n",
    "def plot(var, base_map):\n",
    "    ds = coawst.to_dask() \n",
    "    extra_dims = list(ds[var].dims[:-2])\n",
    "    da = ds[var].cf.isel(T=slice(-time_vals,-1)).unify_chunks().load()\n",
    "    if len(da.shape) == 4:\n",
    "        mesh = da.hvplot.quadmesh(x=da.cf['longitude'].name, y=da.cf['latitude'].name, \n",
    "                              rasterize=True, geo=True, title=var, attr_labels=False, \n",
    "                              fields={da.cf['Z'].name: {'default': float(da.cf['Z'].values[-1])}},\n",
    "                              groupby=extra_dims, cmap='turbo', width=600, grid=True,\n",
    "                              height=600).opts(alpha=0.7, data_aspect=None, \n",
    "                              hooks=[set_tools],\n",
    "                              active_tools=['pan', 'box_zoom'])\n",
    "    else:\n",
    "        mesh = da.hvplot.quadmesh(x=da.cf['longitude'].name, y=da.cf['latitude'].name, \n",
    "                              rasterize=True, geo=True, title=var, attr_labels=False, \n",
    "                              groupby=extra_dims, cmap='turbo', width=600, grid=True,\n",
    "                              height=600).opts(alpha=0.7, data_aspect=None, \n",
    "                              hooks=[set_tools], active_tools=['pan', 'box_zoom'])\n",
    "    return pn.panel(mesh * base_map, widgets={k: pn.widgets.Select for k in extra_dims})"
   ]
  },
  {
   "cell_type": "code",
   "execution_count": null,
   "metadata": {},
   "outputs": [],
   "source": [
    "#dplot =  gv.DynamicMap(pn.bind(plot, var_select, base_map_select))"
   ]
  },
  {
   "cell_type": "code",
   "execution_count": null,
   "metadata": {
    "tags": []
   },
   "outputs": [],
   "source": [
    "col = pn.Column(var_select, base_map_select, plot)"
   ]
  },
  {
   "cell_type": "markdown",
   "metadata": {
    "tags": []
   },
   "source": [
    "We use `.servable()` below not only to display the panel object, but to make the panel servable outside the notebook via:\n",
    "\n",
    "`panel serve COAWST-Explorer.ipynb`"
   ]
  },
  {
   "cell_type": "code",
   "execution_count": null,
   "metadata": {
    "tags": []
   },
   "outputs": [],
   "source": [
    "col.servable('COAWST Explorer')"
   ]
  }
 ],
 "metadata": {
  "kernelspec": {
   "display_name": "global-global-pangeo",
   "language": "python",
   "name": "conda-env-global-global-pangeo-py"
  },
  "language_info": {
   "codemirror_mode": {
    "name": "ipython",
    "version": 3
   },
   "file_extension": ".py",
   "mimetype": "text/x-python",
   "name": "python",
   "nbconvert_exporter": "python",
   "pygments_lexer": "ipython3",
   "version": "3.11.6"
  },
  "toc-showmarkdowntxt": false,
  "widgets": {
   "application/vnd.jupyter.widget-state+json": {
    "state": {},
    "version_major": 2,
    "version_minor": 0
   }
  }
 },
 "nbformat": 4,
 "nbformat_minor": 4
}
