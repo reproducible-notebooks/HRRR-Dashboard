{
 "cells": [
  {
   "cell_type": "markdown",
   "id": "d4c4e764-699d-4e6a-8a14-62d0023cab65",
   "metadata": {},
   "source": [
    "# HRRR Explorer"
   ]
  },
  {
   "cell_type": "code",
   "execution_count": null,
   "id": "3a4b42a9-fd75-4624-8b85-1fcf3cbe0c8d",
   "metadata": {
    "tags": []
   },
   "outputs": [],
   "source": [
    "import xarray as xr\n",
    "import panel as pn\n",
    "import metpy\n",
    "import hvplot.xarray\n",
    "from cartopy import crs as ccrs\n",
    "from geoviews import tile_sources as gvts"
   ]
  },
  {
   "cell_type": "code",
   "execution_count": null,
   "id": "289e6206-3c26-4dbd-beef-9e1bc4e3b6ff",
   "metadata": {
    "tags": []
   },
   "outputs": [],
   "source": [
    "url = 'http://thredds.ucar.edu/thredds/dodsC/grib/NCEP/HRRR/CONUS_2p5km/Best'"
   ]
  },
  {
   "cell_type": "code",
   "execution_count": null,
   "id": "58b6d1e4-e1f4-4174-b221-0f59d1e18be5",
   "metadata": {
    "tags": []
   },
   "outputs": [],
   "source": [
    "update_button = pn.widgets.Button(name='Load latest data', button_type='success')"
   ]
  },
  {
   "cell_type": "code",
   "execution_count": null,
   "id": "8e5736fc-368b-4d66-8d5a-e523bcccf980",
   "metadata": {
    "tags": []
   },
   "outputs": [],
   "source": [
    "def plot(ds, crs, var, base_map):\n",
    "    extra_dims = list(ds[var].dims[:-2])\n",
    "    da = ds[var].unify_chunks().load()\n",
    "    mesh = da.hvplot.quadmesh(x='x', y='y', rasterize=True, crs=crs, title=var,\n",
    "                                   attr_labels=False, project=True,\n",
    "                                   groupby=extra_dims, cmap='turbo',\n",
    "                                   frame_height=400, frame_width=600).opts(alpha=0.7,\n",
    "                                   data_aspect=None, active_tools=['wheel_zoom', 'pan'])\n",
    "    return pn.panel(mesh * base_map, widgets={k: pn.widgets.Select for k in extra_dims})"
   ]
  },
  {
   "cell_type": "code",
   "execution_count": null,
   "id": "8641c4c2-b715-4148-af8e-6cf806566b6e",
   "metadata": {
    "tags": []
   },
   "outputs": [],
   "source": [
    "def map_select(event=None):\n",
    "    ds = xr.open_dataset(url, chunks={'time':1})\n",
    "\n",
    "    time_vars = []\n",
    "    for var in ds.data_vars:\n",
    "        if len(ds[var].dims) > 0:\n",
    "            if 'time' in ds[var].dims[0] and not 'bounds' in var:\n",
    "                time_vars.append(var)\n",
    "\n",
    "    init_var = 'Temperature_height_above_ground'\n",
    "    ds = ds.metpy.parse_cf()\n",
    "    crs = ds[init_var].metpy.cartopy_crs\n",
    "\n",
    "    var_select = pn.widgets.Select(name='HRRR Variables:', options=sorted(time_vars), value=init_var)\n",
    "    base_map_select = pn.widgets.Select(name='Basemap:', options=gvts.tile_sources, value=gvts.OSM)\n",
    "    \n",
    "    plot_app = pn.bind(plot, ds=ds, crs=crs, var=var_select, base_map=base_map_select)\n",
    "    return pn.Column(\n",
    "        var_select,\n",
    "        base_map_select,\n",
    "        plot_app\n",
    "    )"
   ]
  },
  {
   "cell_type": "code",
   "execution_count": null,
   "id": "96fcbf54-e901-4705-97c6-e8f7edf35010",
   "metadata": {
    "tags": []
   },
   "outputs": [],
   "source": [
    "app = pn.Column(\n",
    "    update_button,\n",
    "    pn.bind(map_select, update_button)\n",
    ")"
   ]
  },
  {
   "cell_type": "code",
   "execution_count": null,
   "id": "9ff3f7cf-5114-4620-a3ee-706e1d786451",
   "metadata": {
    "tags": []
   },
   "outputs": [],
   "source": [
    "app.servable('HRRR Explorer')"
   ]
  }
 ],
 "metadata": {
  "kernelspec": {
   "display_name": "global-global-pangeo",
   "language": "python",
   "name": "conda-env-global-global-pangeo-py"
  },
  "language_info": {
   "codemirror_mode": {
    "name": "ipython",
    "version": 3
   },
   "file_extension": ".py",
   "mimetype": "text/x-python",
   "name": "python",
   "nbconvert_exporter": "python",
   "pygments_lexer": "ipython3",
   "version": "3.11.6"
  },
  "widgets": {
   "application/vnd.jupyter.widget-state+json": {
    "state": {},
    "version_major": 2,
    "version_minor": 0
   }
  }
 },
 "nbformat": 4,
 "nbformat_minor": 5
}
